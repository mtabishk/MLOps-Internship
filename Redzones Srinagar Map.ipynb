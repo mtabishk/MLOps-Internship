{
 "cells": [
  {
   "cell_type": "code",
   "execution_count": 1,
   "metadata": {},
   "outputs": [],
   "source": [
    "import pandas as pd\n",
    "import folium"
   ]
  },
  {
   "cell_type": "code",
   "execution_count": 2,
   "metadata": {},
   "outputs": [],
   "source": [
    "dataset = pd.read_csv('redzones_srinagar.csv')"
   ]
  },
  {
   "cell_type": "code",
   "execution_count": 3,
   "metadata": {},
   "outputs": [
    {
     "name": "stdout",
     "output_type": "stream",
     "text": [
      "<class 'pandas.core.frame.DataFrame'>\n",
      "RangeIndex: 12 entries, 0 to 11\n",
      "Data columns (total 3 columns):\n",
      " #   Column              Non-Null Count  Dtype  \n",
      "---  ------              --------------  -----  \n",
      " 0   Red Zone Area Name  12 non-null     object \n",
      " 1   Latitude            12 non-null     float64\n",
      " 2   Longitude           12 non-null     float64\n",
      "dtypes: float64(2), object(1)\n",
      "memory usage: 416.0+ bytes\n"
     ]
    }
   ],
   "source": [
    "dataset.info()"
   ]
  },
  {
   "cell_type": "code",
   "execution_count": 4,
   "metadata": {},
   "outputs": [
    {
     "data": {
      "text/html": [
       "<div>\n",
       "<style scoped>\n",
       "    .dataframe tbody tr th:only-of-type {\n",
       "        vertical-align: middle;\n",
       "    }\n",
       "\n",
       "    .dataframe tbody tr th {\n",
       "        vertical-align: top;\n",
       "    }\n",
       "\n",
       "    .dataframe thead th {\n",
       "        text-align: right;\n",
       "    }\n",
       "</style>\n",
       "<table border=\"1\" class=\"dataframe\">\n",
       "  <thead>\n",
       "    <tr style=\"text-align: right;\">\n",
       "      <th></th>\n",
       "      <th>Red Zone Area Name</th>\n",
       "      <th>Latitude</th>\n",
       "      <th>Longitude</th>\n",
       "    </tr>\n",
       "  </thead>\n",
       "  <tbody>\n",
       "    <tr>\n",
       "      <th>0</th>\n",
       "      <td>Ahmad Nagar, Srinagar</td>\n",
       "      <td>34.167707</td>\n",
       "      <td>74.801430</td>\n",
       "    </tr>\n",
       "    <tr>\n",
       "      <th>1</th>\n",
       "      <td>Lal Bazar, Srinagar</td>\n",
       "      <td>34.133439</td>\n",
       "      <td>74.806532</td>\n",
       "    </tr>\n",
       "    <tr>\n",
       "      <th>2</th>\n",
       "      <td>Hawal, Srinagar</td>\n",
       "      <td>34.109169</td>\n",
       "      <td>74.802779</td>\n",
       "    </tr>\n",
       "    <tr>\n",
       "      <th>3</th>\n",
       "      <td>Nowshera, Srinagar</td>\n",
       "      <td>34.130113</td>\n",
       "      <td>74.799563</td>\n",
       "    </tr>\n",
       "    <tr>\n",
       "      <th>4</th>\n",
       "      <td>Nishat, Srinagar</td>\n",
       "      <td>34.133905</td>\n",
       "      <td>74.872477</td>\n",
       "    </tr>\n",
       "  </tbody>\n",
       "</table>\n",
       "</div>"
      ],
      "text/plain": [
       "      Red Zone Area Name  Latitude   Longitude \n",
       "0  Ahmad Nagar, Srinagar  34.167707   74.801430\n",
       "1    Lal Bazar, Srinagar  34.133439   74.806532\n",
       "2        Hawal, Srinagar  34.109169   74.802779\n",
       "3     Nowshera, Srinagar  34.130113   74.799563\n",
       "4       Nishat, Srinagar  34.133905   74.872477"
      ]
     },
     "execution_count": 4,
     "metadata": {},
     "output_type": "execute_result"
    }
   ],
   "source": [
    "dataset.head()"
   ]
  },
  {
   "cell_type": "code",
   "execution_count": 5,
   "metadata": {},
   "outputs": [
    {
     "data": {
      "text/plain": [
       "Index(['Red Zone Area Name', 'Latitude ', 'Longitude '], dtype='object')"
      ]
     },
     "execution_count": 5,
     "metadata": {},
     "output_type": "execute_result"
    }
   ],
   "source": [
    "dataset.columns"
   ]
  },
  {
   "cell_type": "code",
   "execution_count": 6,
   "metadata": {},
   "outputs": [],
   "source": [
    "areas = dataset[['Latitude ', 'Longitude ']]"
   ]
  },
  {
   "cell_type": "code",
   "execution_count": 10,
   "metadata": {},
   "outputs": [
    {
     "ename": "NameError",
     "evalue": "name 'area' is not defined",
     "output_type": "error",
     "traceback": [
      "\u001b[1;31m---------------------------------------------------------------------------\u001b[0m",
      "\u001b[1;31mNameError\u001b[0m                                 Traceback (most recent call last)",
      "\u001b[1;32m<ipython-input-10-cb240d40b889>\u001b[0m in \u001b[0;36m<module>\u001b[1;34m\u001b[0m\n\u001b[1;32m----> 1\u001b[1;33m \u001b[0marea\u001b[0m\u001b[1;33m\u001b[0m\u001b[1;33m\u001b[0m\u001b[0m\n\u001b[0m",
      "\u001b[1;31mNameError\u001b[0m: name 'area' is not defined"
     ]
    }
   ],
   "source": [
    "area"
   ]
  },
  {
   "cell_type": "code",
   "execution_count": 11,
   "metadata": {},
   "outputs": [],
   "source": [
    "place = dataset['Red Zone Area Name']"
   ]
  },
  {
   "cell_type": "code",
   "execution_count": 12,
   "metadata": {},
   "outputs": [
    {
     "data": {
      "text/plain": [
       "'Lal Bazar, Srinagar'"
      ]
     },
     "execution_count": 12,
     "metadata": {},
     "output_type": "execute_result"
    }
   ],
   "source": [
    "place[1]"
   ]
  },
  {
   "cell_type": "code",
   "execution_count": 13,
   "metadata": {},
   "outputs": [
    {
     "data": {
      "text/plain": [
       "pandas.core.frame.DataFrame"
      ]
     },
     "execution_count": 13,
     "metadata": {},
     "output_type": "execute_result"
    }
   ],
   "source": [
    "type(areas)"
   ]
  },
  {
   "cell_type": "code",
   "execution_count": 14,
   "metadata": {},
   "outputs": [],
   "source": [
    "areas = areas.values.tolist()"
   ]
  },
  {
   "cell_type": "code",
   "execution_count": 15,
   "metadata": {},
   "outputs": [
    {
     "data": {
      "text/plain": [
       "list"
      ]
     },
     "execution_count": 15,
     "metadata": {},
     "output_type": "execute_result"
    }
   ],
   "source": [
    "type(areas)"
   ]
  },
  {
   "cell_type": "code",
   "execution_count": 16,
   "metadata": {},
   "outputs": [],
   "source": [
    "rz_map = folium.Map(\n",
    "            location=[34.106639,74.666669],\n",
    "            tiles='Stamen Toner',\n",
    "            zoom_start=12\n",
    "        )"
   ]
  },
  {
   "cell_type": "code",
   "execution_count": 17,
   "metadata": {},
   "outputs": [],
   "source": [
    "i=0\n",
    "for area in areas :\n",
    "    folium.Circle(\n",
    "        radius=300,\n",
    "        location=area,\n",
    "        color='crimson',\n",
    "        fill=False,\n",
    "        ).add_to(rz_map)\n",
    "    folium.CircleMarker(\n",
    "        location=area,\n",
    "        radius=30,\n",
    "        popup=dataset['Red Zone Area Name'][i],\n",
    "        color='#3186cc',\n",
    "        fill=True,\n",
    "        fill_color='#3186cc'\n",
    "    ).add_to(rz_map)\n",
    "    i+=1\n"
   ]
  },
  {
   "cell_type": "code",
   "execution_count": 18,
   "metadata": {},
   "outputs": [
    {
     "data": {
      "text/html": [
       "<div style=\"width:100%;\"><div style=\"position:relative;width:100%;height:0;padding-bottom:60%;\"><iframe src=\"about:blank\" style=\"position:absolute;width:100%;height:100%;left:0;top:0;border:none !important;\" data-html=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 onload=\"this.contentDocument.open();this.contentDocument.write(atob(this.getAttribute('data-html')));this.contentDocument.close();\" allowfullscreen webkitallowfullscreen mozallowfullscreen></iframe></div></div>"
      ],
      "text/plain": [
       "<folium.folium.Map at 0x2812c75f748>"
      ]
     },
     "execution_count": 18,
     "metadata": {},
     "output_type": "execute_result"
    }
   ],
   "source": [
    "rz_map"
   ]
  },
  {
   "cell_type": "code",
   "execution_count": null,
   "metadata": {},
   "outputs": [],
   "source": []
  },
  {
   "cell_type": "code",
   "execution_count": null,
   "metadata": {},
   "outputs": [],
   "source": []
  }
 ],
 "metadata": {
  "kernelspec": {
   "display_name": "Python 3",
   "language": "python",
   "name": "python3"
  },
  "language_info": {
   "codemirror_mode": {
    "name": "ipython",
    "version": 3
   },
   "file_extension": ".py",
   "mimetype": "text/x-python",
   "name": "python",
   "nbconvert_exporter": "python",
   "pygments_lexer": "ipython3",
   "version": "3.7.7"
  }
 },
 "nbformat": 4,
 "nbformat_minor": 4
}
